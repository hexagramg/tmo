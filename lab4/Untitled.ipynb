{
 "cells": [
  {
   "cell_type": "code",
   "execution_count": 38,
   "metadata": {},
   "outputs": [],
   "source": [
    "import pandas as pd\n",
    "import math\n",
    "import seaborn\n",
    "import numpy\n",
    "from sklearn.neighbors import NearestNeighbors\n",
    "from sklearn.model_selection import train_test_split\n",
    "from sklearn.metrics import accuracy_score\n",
    "from sklearn.metrics import roc_auc_score\n",
    "\n",
    "import matplotlib.pyplot as plt\n",
    "from matplotlib.colors import ListedColormap\n",
    "from sklearn import neighbors, datasets\n",
    "from sklearn.neighbors import KNeighborsClassifier"
   ]
  },
  {
   "cell_type": "code",
   "execution_count": 2,
   "metadata": {},
   "outputs": [],
   "source": [
    "class kNN:\n",
    "    def __init__(self):\n",
    "        self.data_train = numpy.array([])\n",
    "        self.labels_train = numpy.array([])\n",
    "    \n",
    "    def train(self, x, y):\n",
    "        if len(x.shape) == 2 and len(y.shape) == 1 and y.shape[0] == x.shape[0]:\n",
    "            self.data_train = x \n",
    "            self.labels_train = y\n",
    "            self.labels = set(y)\n",
    "            self.num_labels = len(self.labels)\n",
    "        else:\n",
    "            print(\"train unsuccessful, check your data\")\n",
    "    \n",
    "    def predict(self, x, k):\n",
    "        dtype = numpy.dtype([(\"distance\",numpy.float),(\"label\",numpy.int)])\n",
    "        if x.shape[1] == self.data_train.shape[1]:\n",
    "            predicted = numpy.array([])\n",
    "            for vector in x:\n",
    "                euk_distance = numpy.array([], dtype=dtype)\n",
    "                for i, train in enumerate(self.data_train):\n",
    "                    sum_distance = 0\n",
    "                    for position, point in enumerate(vector):\n",
    "                        sum_distance += pow(point - train[position], 2)\n",
    "                    sum_distance = pow(sum_distance, 1/2)\n",
    "                    euk_distance = numpy.append(euk_distance, numpy.array((sum_distance, self.labels_train[i]), dtype=dtype))\n",
    "                euk_distance = numpy.sort(euk_distance, order=\"distance\")\n",
    "                euk_distance = euk_distance[:k]\n",
    "                dtypeP = [(\"quanity\",numpy.int), (\"label\", numpy.int)]\n",
    "                prediction = numpy.array([], dtype=dtypeP)\n",
    "                for label in self.labels:\n",
    "                    quanity = sum([1 for (x,y) in euk_distance if y == label])\n",
    "                    print((quanity,label))\n",
    "                    prediction = numpy.append(prediction, numpy.array((quanity, label), dtype=dtypeP))\n",
    "                prediction = numpy.sort(prediction, order=\"quanity\")\n",
    "                print(prediction)\n",
    "                predicted = numpy.append(predicted, prediction[-1][1])\n",
    "            return predicted\n",
    "        else: \n",
    "            print(\"Wrong dimensions\")\n",
    "            return None\n",
    "    \n",
    "        "
   ]
  },
  {
   "cell_type": "code",
   "execution_count": 3,
   "metadata": {},
   "outputs": [],
   "source": [
    "arr = numpy.array([1,2,3])"
   ]
  },
  {
   "cell_type": "code",
   "execution_count": 4,
   "metadata": {},
   "outputs": [],
   "source": [
    "dd = set(arr)"
   ]
  },
  {
   "cell_type": "code",
   "execution_count": 5,
   "metadata": {},
   "outputs": [],
   "source": [
    "iris = pd.read_csv(\"Iris.csv\")"
   ]
  },
  {
   "cell_type": "code",
   "execution_count": 6,
   "metadata": {},
   "outputs": [
    {
     "data": {
      "text/html": [
       "<div>\n",
       "<style scoped>\n",
       "    .dataframe tbody tr th:only-of-type {\n",
       "        vertical-align: middle;\n",
       "    }\n",
       "\n",
       "    .dataframe tbody tr th {\n",
       "        vertical-align: top;\n",
       "    }\n",
       "\n",
       "    .dataframe thead th {\n",
       "        text-align: right;\n",
       "    }\n",
       "</style>\n",
       "<table border=\"1\" class=\"dataframe\">\n",
       "  <thead>\n",
       "    <tr style=\"text-align: right;\">\n",
       "      <th></th>\n",
       "      <th>Id</th>\n",
       "      <th>SepalLengthCm</th>\n",
       "      <th>SepalWidthCm</th>\n",
       "      <th>PetalLengthCm</th>\n",
       "      <th>PetalWidthCm</th>\n",
       "      <th>Species</th>\n",
       "    </tr>\n",
       "  </thead>\n",
       "  <tbody>\n",
       "    <tr>\n",
       "      <th>0</th>\n",
       "      <td>1</td>\n",
       "      <td>5.1</td>\n",
       "      <td>3.5</td>\n",
       "      <td>1.4</td>\n",
       "      <td>0.2</td>\n",
       "      <td>Iris-setosa</td>\n",
       "    </tr>\n",
       "    <tr>\n",
       "      <th>1</th>\n",
       "      <td>2</td>\n",
       "      <td>4.9</td>\n",
       "      <td>3.0</td>\n",
       "      <td>1.4</td>\n",
       "      <td>0.2</td>\n",
       "      <td>Iris-setosa</td>\n",
       "    </tr>\n",
       "    <tr>\n",
       "      <th>2</th>\n",
       "      <td>3</td>\n",
       "      <td>4.7</td>\n",
       "      <td>3.2</td>\n",
       "      <td>1.3</td>\n",
       "      <td>0.2</td>\n",
       "      <td>Iris-setosa</td>\n",
       "    </tr>\n",
       "    <tr>\n",
       "      <th>3</th>\n",
       "      <td>4</td>\n",
       "      <td>4.6</td>\n",
       "      <td>3.1</td>\n",
       "      <td>1.5</td>\n",
       "      <td>0.2</td>\n",
       "      <td>Iris-setosa</td>\n",
       "    </tr>\n",
       "    <tr>\n",
       "      <th>4</th>\n",
       "      <td>5</td>\n",
       "      <td>5.0</td>\n",
       "      <td>3.6</td>\n",
       "      <td>1.4</td>\n",
       "      <td>0.2</td>\n",
       "      <td>Iris-setosa</td>\n",
       "    </tr>\n",
       "  </tbody>\n",
       "</table>\n",
       "</div>"
      ],
      "text/plain": [
       "   Id  SepalLengthCm  SepalWidthCm  PetalLengthCm  PetalWidthCm      Species\n",
       "0   1            5.1           3.5            1.4           0.2  Iris-setosa\n",
       "1   2            4.9           3.0            1.4           0.2  Iris-setosa\n",
       "2   3            4.7           3.2            1.3           0.2  Iris-setosa\n",
       "3   4            4.6           3.1            1.5           0.2  Iris-setosa\n",
       "4   5            5.0           3.6            1.4           0.2  Iris-setosa"
      ]
     },
     "execution_count": 6,
     "metadata": {},
     "output_type": "execute_result"
    }
   ],
   "source": [
    "iris.head()"
   ]
  },
  {
   "cell_type": "code",
   "execution_count": 33,
   "metadata": {},
   "outputs": [
    {
     "data": {
      "text/plain": [
       "Id                 int64\n",
       "SepalLengthCm    float64\n",
       "SepalWidthCm     float64\n",
       "PetalLengthCm    float64\n",
       "PetalWidthCm     float64\n",
       "Species           object\n",
       "dtype: object"
      ]
     },
     "execution_count": 33,
     "metadata": {},
     "output_type": "execute_result"
    }
   ],
   "source": [
    "iris.dtypes"
   ]
  },
  {
   "cell_type": "code",
   "execution_count": 7,
   "metadata": {},
   "outputs": [],
   "source": [
    "iris[\"Cat\"] = iris[\"Species\"].astype(\"category\").cat.codes"
   ]
  },
  {
   "cell_type": "code",
   "execution_count": 8,
   "metadata": {},
   "outputs": [
    {
     "data": {
      "text/html": [
       "<div>\n",
       "<style scoped>\n",
       "    .dataframe tbody tr th:only-of-type {\n",
       "        vertical-align: middle;\n",
       "    }\n",
       "\n",
       "    .dataframe tbody tr th {\n",
       "        vertical-align: top;\n",
       "    }\n",
       "\n",
       "    .dataframe thead th {\n",
       "        text-align: right;\n",
       "    }\n",
       "</style>\n",
       "<table border=\"1\" class=\"dataframe\">\n",
       "  <thead>\n",
       "    <tr style=\"text-align: right;\">\n",
       "      <th></th>\n",
       "      <th>Id</th>\n",
       "      <th>SepalLengthCm</th>\n",
       "      <th>SepalWidthCm</th>\n",
       "      <th>PetalLengthCm</th>\n",
       "      <th>PetalWidthCm</th>\n",
       "      <th>Species</th>\n",
       "      <th>Cat</th>\n",
       "    </tr>\n",
       "  </thead>\n",
       "  <tbody>\n",
       "    <tr>\n",
       "      <th>0</th>\n",
       "      <td>1</td>\n",
       "      <td>5.1</td>\n",
       "      <td>3.5</td>\n",
       "      <td>1.4</td>\n",
       "      <td>0.2</td>\n",
       "      <td>Iris-setosa</td>\n",
       "      <td>0</td>\n",
       "    </tr>\n",
       "    <tr>\n",
       "      <th>1</th>\n",
       "      <td>2</td>\n",
       "      <td>4.9</td>\n",
       "      <td>3.0</td>\n",
       "      <td>1.4</td>\n",
       "      <td>0.2</td>\n",
       "      <td>Iris-setosa</td>\n",
       "      <td>0</td>\n",
       "    </tr>\n",
       "    <tr>\n",
       "      <th>2</th>\n",
       "      <td>3</td>\n",
       "      <td>4.7</td>\n",
       "      <td>3.2</td>\n",
       "      <td>1.3</td>\n",
       "      <td>0.2</td>\n",
       "      <td>Iris-setosa</td>\n",
       "      <td>0</td>\n",
       "    </tr>\n",
       "    <tr>\n",
       "      <th>3</th>\n",
       "      <td>4</td>\n",
       "      <td>4.6</td>\n",
       "      <td>3.1</td>\n",
       "      <td>1.5</td>\n",
       "      <td>0.2</td>\n",
       "      <td>Iris-setosa</td>\n",
       "      <td>0</td>\n",
       "    </tr>\n",
       "    <tr>\n",
       "      <th>4</th>\n",
       "      <td>5</td>\n",
       "      <td>5.0</td>\n",
       "      <td>3.6</td>\n",
       "      <td>1.4</td>\n",
       "      <td>0.2</td>\n",
       "      <td>Iris-setosa</td>\n",
       "      <td>0</td>\n",
       "    </tr>\n",
       "  </tbody>\n",
       "</table>\n",
       "</div>"
      ],
      "text/plain": [
       "   Id  SepalLengthCm  SepalWidthCm  PetalLengthCm  PetalWidthCm      Species  \\\n",
       "0   1            5.1           3.5            1.4           0.2  Iris-setosa   \n",
       "1   2            4.9           3.0            1.4           0.2  Iris-setosa   \n",
       "2   3            4.7           3.2            1.3           0.2  Iris-setosa   \n",
       "3   4            4.6           3.1            1.5           0.2  Iris-setosa   \n",
       "4   5            5.0           3.6            1.4           0.2  Iris-setosa   \n",
       "\n",
       "   Cat  \n",
       "0    0  \n",
       "1    0  \n",
       "2    0  \n",
       "3    0  \n",
       "4    0  "
      ]
     },
     "execution_count": 8,
     "metadata": {},
     "output_type": "execute_result"
    }
   ],
   "source": [
    "iris.head()"
   ]
  },
  {
   "cell_type": "code",
   "execution_count": 9,
   "metadata": {},
   "outputs": [],
   "source": [
    "xdata = numpy.array(iris[[\"SepalLengthCm\",\"SepalWidthCm\",\"PetalLengthCm\"]])"
   ]
  },
  {
   "cell_type": "code",
   "execution_count": 10,
   "metadata": {},
   "outputs": [],
   "source": [
    "ydata = numpy.array(iris[[\"Cat\"]])"
   ]
  },
  {
   "cell_type": "code",
   "execution_count": 11,
   "metadata": {},
   "outputs": [],
   "source": [
    "def shuffle(x,y):\n",
    "    index = numpy.arange(len(x))\n",
    "    numpy.random.shuffle(index)\n",
    "\n",
    "    xshuffled = [x[i] for i in index]\n",
    "    yshuffled = [y[i] for i in index]\n",
    "    return xshuffled, yshuffled"
   ]
  },
  {
   "cell_type": "code",
   "execution_count": 12,
   "metadata": {},
   "outputs": [],
   "source": [
    "xsh, ysh = shuffle(xdata,ydata)"
   ]
  },
  {
   "cell_type": "code",
   "execution_count": 1,
   "metadata": {},
   "outputs": [],
   "source": [
    "def split(x, p=0.7):\n",
    "    index = int(len(x)*p)\n",
    "    return x[:index],x[index:]"
   ]
  },
  {
   "cell_type": "code",
   "execution_count": 62,
   "metadata": {},
   "outputs": [],
   "source": [
    "xtrain, xtest = split(xsh)\n",
    "ytrain, ytest = split(ysh)"
   ]
  },
  {
   "cell_type": "code",
   "execution_count": 227,
   "metadata": {},
   "outputs": [],
   "source": [
    "knn = kNN()\n",
    "knn.train(numpy.array(xtrain),numpy.array(ytrain).flatten())"
   ]
  },
  {
   "cell_type": "code",
   "execution_count": 228,
   "metadata": {
    "scrolled": true
   },
   "outputs": [
    {
     "name": "stdout",
     "output_type": "stream",
     "text": [
      "(5, 0)\n",
      "(0, 1)\n",
      "(0, 2)\n",
      "[(0, 1) (0, 2) (5, 0)]\n",
      "(0, 0)\n",
      "(5, 1)\n",
      "(0, 2)\n",
      "[(0, 0) (0, 2) (5, 1)]\n",
      "(5, 0)\n",
      "(0, 1)\n",
      "(0, 2)\n",
      "[(0, 1) (0, 2) (5, 0)]\n",
      "(0, 0)\n",
      "(0, 1)\n",
      "(5, 2)\n",
      "[(0, 0) (0, 1) (5, 2)]\n",
      "(0, 0)\n",
      "(0, 1)\n",
      "(5, 2)\n",
      "[(0, 0) (0, 1) (5, 2)]\n",
      "(0, 0)\n",
      "(5, 1)\n",
      "(0, 2)\n",
      "[(0, 0) (0, 2) (5, 1)]\n",
      "(0, 0)\n",
      "(2, 1)\n",
      "(3, 2)\n",
      "[(0, 0) (2, 1) (3, 2)]\n",
      "(5, 0)\n",
      "(0, 1)\n",
      "(0, 2)\n",
      "[(0, 1) (0, 2) (5, 0)]\n",
      "(0, 0)\n",
      "(1, 1)\n",
      "(4, 2)\n",
      "[(0, 0) (1, 1) (4, 2)]\n",
      "(0, 0)\n",
      "(0, 1)\n",
      "(5, 2)\n",
      "[(0, 0) (0, 1) (5, 2)]\n",
      "(5, 0)\n",
      "(0, 1)\n",
      "(0, 2)\n",
      "[(0, 1) (0, 2) (5, 0)]\n",
      "(0, 0)\n",
      "(0, 1)\n",
      "(5, 2)\n",
      "[(0, 0) (0, 1) (5, 2)]\n",
      "(0, 0)\n",
      "(5, 1)\n",
      "(0, 2)\n",
      "[(0, 0) (0, 2) (5, 1)]\n",
      "(5, 0)\n",
      "(0, 1)\n",
      "(0, 2)\n",
      "[(0, 1) (0, 2) (5, 0)]\n",
      "(0, 0)\n",
      "(5, 1)\n",
      "(0, 2)\n",
      "[(0, 0) (0, 2) (5, 1)]\n",
      "(0, 0)\n",
      "(2, 1)\n",
      "(3, 2)\n",
      "[(0, 0) (2, 1) (3, 2)]\n",
      "(5, 0)\n",
      "(0, 1)\n",
      "(0, 2)\n",
      "[(0, 1) (0, 2) (5, 0)]\n",
      "(5, 0)\n",
      "(0, 1)\n",
      "(0, 2)\n",
      "[(0, 1) (0, 2) (5, 0)]\n",
      "(0, 0)\n",
      "(0, 1)\n",
      "(5, 2)\n",
      "[(0, 0) (0, 1) (5, 2)]\n",
      "(0, 0)\n",
      "(5, 1)\n",
      "(0, 2)\n",
      "[(0, 0) (0, 2) (5, 1)]\n",
      "(0, 0)\n",
      "(1, 1)\n",
      "(4, 2)\n",
      "[(0, 0) (1, 1) (4, 2)]\n",
      "(5, 0)\n",
      "(0, 1)\n",
      "(0, 2)\n",
      "[(0, 1) (0, 2) (5, 0)]\n",
      "(5, 0)\n",
      "(0, 1)\n",
      "(0, 2)\n",
      "[(0, 1) (0, 2) (5, 0)]\n",
      "(5, 0)\n",
      "(0, 1)\n",
      "(0, 2)\n",
      "[(0, 1) (0, 2) (5, 0)]\n",
      "(0, 0)\n",
      "(2, 1)\n",
      "(3, 2)\n",
      "[(0, 0) (2, 1) (3, 2)]\n",
      "(0, 0)\n",
      "(5, 1)\n",
      "(0, 2)\n",
      "[(0, 0) (0, 2) (5, 1)]\n",
      "(0, 0)\n",
      "(5, 1)\n",
      "(0, 2)\n",
      "[(0, 0) (0, 2) (5, 1)]\n",
      "(0, 0)\n",
      "(5, 1)\n",
      "(0, 2)\n",
      "[(0, 0) (0, 2) (5, 1)]\n",
      "(0, 0)\n",
      "(2, 1)\n",
      "(3, 2)\n",
      "[(0, 0) (2, 1) (3, 2)]\n",
      "(0, 0)\n",
      "(0, 1)\n",
      "(5, 2)\n",
      "[(0, 0) (0, 1) (5, 2)]\n",
      "(0, 0)\n",
      "(5, 1)\n",
      "(0, 2)\n",
      "[(0, 0) (0, 2) (5, 1)]\n",
      "(0, 0)\n",
      "(1, 1)\n",
      "(4, 2)\n",
      "[(0, 0) (1, 1) (4, 2)]\n",
      "(5, 0)\n",
      "(0, 1)\n",
      "(0, 2)\n",
      "[(0, 1) (0, 2) (5, 0)]\n",
      "(0, 0)\n",
      "(1, 1)\n",
      "(4, 2)\n",
      "[(0, 0) (1, 1) (4, 2)]\n",
      "(0, 0)\n",
      "(0, 1)\n",
      "(5, 2)\n",
      "[(0, 0) (0, 1) (5, 2)]\n",
      "(0, 0)\n",
      "(5, 1)\n",
      "(0, 2)\n",
      "[(0, 0) (0, 2) (5, 1)]\n",
      "(0, 0)\n",
      "(4, 1)\n",
      "(1, 2)\n",
      "[(0, 0) (1, 2) (4, 1)]\n",
      "(0, 0)\n",
      "(5, 1)\n",
      "(0, 2)\n",
      "[(0, 0) (0, 2) (5, 1)]\n",
      "(0, 0)\n",
      "(5, 1)\n",
      "(0, 2)\n",
      "[(0, 0) (0, 2) (5, 1)]\n",
      "(5, 0)\n",
      "(0, 1)\n",
      "(0, 2)\n",
      "[(0, 1) (0, 2) (5, 0)]\n",
      "(0, 0)\n",
      "(3, 1)\n",
      "(2, 2)\n",
      "[(0, 0) (2, 2) (3, 1)]\n",
      "(0, 0)\n",
      "(0, 1)\n",
      "(5, 2)\n",
      "[(0, 0) (0, 1) (5, 2)]\n",
      "(0, 0)\n",
      "(0, 1)\n",
      "(5, 2)\n",
      "[(0, 0) (0, 1) (5, 2)]\n",
      "(0, 0)\n",
      "(3, 1)\n",
      "(2, 2)\n",
      "[(0, 0) (2, 2) (3, 1)]\n",
      "(5, 0)\n",
      "(0, 1)\n",
      "(0, 2)\n",
      "[(0, 1) (0, 2) (5, 0)]\n"
     ]
    }
   ],
   "source": []
  },
  {
   "cell_type": "code",
   "execution_count": 229,
   "metadata": {},
   "outputs": [
    {
     "data": {
      "text/plain": [
       "array([0., 1., 0., 2., 2., 1., 2., 0., 2., 2., 0., 2., 1., 0., 1., 2., 0.,\n",
       "       0., 2., 1., 2., 0., 0., 0., 2., 1., 1., 1., 2., 2., 1., 2., 0., 2.,\n",
       "       2., 1., 1., 1., 1., 0., 1., 2., 2., 1., 0.])"
      ]
     },
     "execution_count": 229,
     "metadata": {},
     "output_type": "execute_result"
    }
   ],
   "source": [
    "prediction"
   ]
  },
  {
   "cell_type": "code",
   "execution_count": 230,
   "metadata": {},
   "outputs": [
    {
     "data": {
      "text/plain": [
       "array([0, 1, 0, 2, 2, 1, 2, 0, 2, 2, 0, 2, 1, 0, 1, 1, 0, 0, 2, 1, 2, 0,\n",
       "       0, 0, 2, 2, 1, 1, 1, 2, 1, 2, 0, 2, 2, 1, 1, 1, 1, 0, 1, 2, 2, 2,\n",
       "       0], dtype=int8)"
      ]
     },
     "execution_count": 230,
     "metadata": {},
     "output_type": "execute_result"
    }
   ],
   "source": [
    "numpy.array(ytest).flatten()"
   ]
  },
  {
   "cell_type": "code",
   "execution_count": 189,
   "metadata": {},
   "outputs": [],
   "source": [
    "dtype = numpy.dtype([(\"distance\",numpy.float),(\"label\",numpy.int)])"
   ]
  },
  {
   "cell_type": "code",
   "execution_count": 193,
   "metadata": {},
   "outputs": [
    {
     "data": {
      "text/plain": [
       "array([(1.000001, 2), (2.222   , 1)],\n",
       "      dtype=[('distance', '<f8'), ('label', '<i8')])"
      ]
     },
     "execution_count": 193,
     "metadata": {},
     "output_type": "execute_result"
    }
   ],
   "source": [
    "numpy.array([(1.000001, 2),(2.222, 1)], dtype=dtype)"
   ]
  },
  {
   "cell_type": "code",
   "execution_count": null,
   "metadata": {},
   "outputs": [],
   "source": [
    "def gridSearch(left, right,knn,xtest):\n",
    "    results = numpy.array([])\n",
    "    for i in range(left,right):\n",
    "        numpy.append(results, [knn.predict(numpy.array(xtest),i)])\n",
    "    return results"
   ]
  },
  {
   "cell_type": "code",
   "execution_count": 13,
   "metadata": {},
   "outputs": [],
   "source": [
    "X_train, X_test, y_train, y_test = train_test_split(\n",
    "         xsh, ysh, test_size=0.33, random_state=42)"
   ]
  },
  {
   "cell_type": "code",
   "execution_count": 29,
   "metadata": {},
   "outputs": [],
   "source": [
    "nbrs = NearestNeighbors(n_neighbors=2, algorithm='auto').fit(X_train)"
   ]
  },
  {
   "cell_type": "code",
   "execution_count": 30,
   "metadata": {},
   "outputs": [],
   "source": [
    "distances, indices = nbrs.kneighbors(X_train)"
   ]
  },
  {
   "cell_type": "code",
   "execution_count": 31,
   "metadata": {},
   "outputs": [
    {
     "data": {
      "text/plain": [
       "array([[0.        , 0.31622777],\n",
       "       [0.        , 0.24494897],\n",
       "       [0.        , 0.1       ],\n",
       "       [0.        , 0.24494897],\n",
       "       [0.        , 0.2236068 ],\n",
       "       [0.        , 0.41231056],\n",
       "       [0.        , 0.14142136],\n",
       "       [0.        , 0.33166248],\n",
       "       [0.        , 0.24494897],\n",
       "       [0.        , 0.3       ],\n",
       "       [0.        , 0.2236068 ],\n",
       "       [0.        , 0.        ],\n",
       "       [0.        , 0.        ],\n",
       "       [0.        , 0.2       ],\n",
       "       [0.        , 0.31622777],\n",
       "       [0.        , 0.14142136],\n",
       "       [0.        , 0.33166248],\n",
       "       [0.        , 0.2236068 ],\n",
       "       [0.        , 0.        ],\n",
       "       [0.        , 0.24494897]])"
      ]
     },
     "execution_count": 31,
     "metadata": {},
     "output_type": "execute_result"
    }
   ],
   "source": [
    "distances[:20]"
   ]
  },
  {
   "cell_type": "code",
   "execution_count": 32,
   "metadata": {},
   "outputs": [
    {
     "data": {
      "text/plain": [
       "array([[ 0, 75],\n",
       "       [ 1, 21],\n",
       "       [ 2, 66],\n",
       "       [ 3, 32],\n",
       "       [ 4, 10],\n",
       "       [ 5, 41],\n",
       "       [ 6, 11],\n",
       "       [ 7, 16],\n",
       "       [ 8, 62],\n",
       "       [ 9, 50],\n",
       "       [10,  4],\n",
       "       [92, 11],\n",
       "       [94, 12],\n",
       "       [13, 57],\n",
       "       [14, 26],\n",
       "       [15, 62],\n",
       "       [16,  7],\n",
       "       [17, 21],\n",
       "       [18, 89],\n",
       "       [19, 15]])"
      ]
     },
     "execution_count": 32,
     "metadata": {},
     "output_type": "execute_result"
    }
   ],
   "source": [
    "indices[:20]"
   ]
  },
  {
   "cell_type": "code",
   "execution_count": null,
   "metadata": {},
   "outputs": [],
   "source": []
  },
  {
   "cell_type": "code",
   "execution_count": 39,
   "metadata": {},
   "outputs": [
    {
     "name": "stderr",
     "output_type": "stream",
     "text": [
      "/home/hexagramg/tmovenv/lib/python3.6/site-packages/ipykernel_launcher.py:4: DataConversionWarning: A column-vector y was passed when a 1d array was expected. Please change the shape of y to (n_samples, ), for example using ravel().\n",
      "  after removing the cwd from sys.path.\n"
     ]
    }
   ],
   "source": [
    "\n",
    "knn = KNeighborsClassifier(n_neighbors=7)\n",
    "\n",
    "knn.fit(X_train, y_train)\n",
    "\n",
    "y_pred = knn.predict(X_test)"
   ]
  },
  {
   "cell_type": "code",
   "execution_count": 41,
   "metadata": {},
   "outputs": [
    {
     "data": {
      "text/plain": [
       "0.94"
      ]
     },
     "execution_count": 41,
     "metadata": {},
     "output_type": "execute_result"
    }
   ],
   "source": [
    "accuracy_score(y_test, y_pred)"
   ]
  },
  {
   "cell_type": "code",
   "execution_count": 42,
   "metadata": {},
   "outputs": [
    {
     "data": {
      "text/plain": [
       "[array([2], dtype=int8),\n",
       " array([1], dtype=int8),\n",
       " array([1], dtype=int8),\n",
       " array([2], dtype=int8),\n",
       " array([0], dtype=int8),\n",
       " array([0], dtype=int8),\n",
       " array([2], dtype=int8),\n",
       " array([1], dtype=int8),\n",
       " array([2], dtype=int8),\n",
       " array([2], dtype=int8),\n",
       " array([2], dtype=int8),\n",
       " array([1], dtype=int8),\n",
       " array([2], dtype=int8),\n",
       " array([2], dtype=int8),\n",
       " array([0], dtype=int8),\n",
       " array([2], dtype=int8),\n",
       " array([0], dtype=int8),\n",
       " array([1], dtype=int8),\n",
       " array([2], dtype=int8),\n",
       " array([1], dtype=int8),\n",
       " array([0], dtype=int8),\n",
       " array([1], dtype=int8),\n",
       " array([0], dtype=int8),\n",
       " array([1], dtype=int8),\n",
       " array([1], dtype=int8),\n",
       " array([0], dtype=int8),\n",
       " array([0], dtype=int8),\n",
       " array([0], dtype=int8),\n",
       " array([2], dtype=int8),\n",
       " array([0], dtype=int8),\n",
       " array([1], dtype=int8),\n",
       " array([0], dtype=int8),\n",
       " array([0], dtype=int8),\n",
       " array([1], dtype=int8),\n",
       " array([1], dtype=int8),\n",
       " array([2], dtype=int8),\n",
       " array([0], dtype=int8),\n",
       " array([1], dtype=int8),\n",
       " array([1], dtype=int8),\n",
       " array([1], dtype=int8),\n",
       " array([0], dtype=int8),\n",
       " array([0], dtype=int8),\n",
       " array([0], dtype=int8),\n",
       " array([1], dtype=int8),\n",
       " array([0], dtype=int8),\n",
       " array([0], dtype=int8),\n",
       " array([0], dtype=int8),\n",
       " array([1], dtype=int8),\n",
       " array([0], dtype=int8),\n",
       " array([0], dtype=int8)]"
      ]
     },
     "execution_count": 42,
     "metadata": {},
     "output_type": "execute_result"
    }
   ],
   "source": [
    "y_test"
   ]
  },
  {
   "cell_type": "code",
   "execution_count": 43,
   "metadata": {},
   "outputs": [],
   "source": [
    "from sklearn.metrics import balanced_accuracy_score"
   ]
  },
  {
   "cell_type": "code",
   "execution_count": 44,
   "metadata": {},
   "outputs": [
    {
     "data": {
      "text/plain": [
       "0.9411764705882352"
      ]
     },
     "execution_count": 44,
     "metadata": {},
     "output_type": "execute_result"
    }
   ],
   "source": [
    "balanced_accuracy_score(y_test, y_pred)"
   ]
  },
  {
   "cell_type": "code",
   "execution_count": 45,
   "metadata": {},
   "outputs": [],
   "source": [
    "from sklearn.metrics import f1_score"
   ]
  },
  {
   "cell_type": "code",
   "execution_count": 48,
   "metadata": {},
   "outputs": [
    {
     "name": "stdout",
     "output_type": "stream",
     "text": [
      "0.9307048984468339\n",
      "0.94\n",
      "0.9404301075268816\n"
     ]
    }
   ],
   "source": [
    "print(f1_score(y_test, y_pred, average='macro'))\n",
    "print(f1_score(y_test, y_pred, average='micro'))  \n",
    "print(f1_score(y_test, y_pred, average='weighted'))"
   ]
  },
  {
   "cell_type": "code",
   "execution_count": 49,
   "metadata": {},
   "outputs": [],
   "source": [
    "y_pred = knn.predict(X_train)"
   ]
  },
  {
   "cell_type": "code",
   "execution_count": 50,
   "metadata": {},
   "outputs": [
    {
     "name": "stdout",
     "output_type": "stream",
     "text": [
      "0.97\n",
      "0.9710260499734185\n",
      "0.9716283716283717\n",
      "0.97\n",
      "0.9699640359640361\n"
     ]
    }
   ],
   "source": [
    "print(accuracy_score(y_train, y_pred))\n",
    "print(balanced_accuracy_score(y_train, y_pred))\n",
    "print(f1_score(y_train, y_pred, average='macro'))\n",
    "print(f1_score(y_train, y_pred, average='micro'))  \n",
    "print(f1_score(y_train, y_pred, average='weighted'))"
   ]
  },
  {
   "cell_type": "code",
   "execution_count": 51,
   "metadata": {},
   "outputs": [],
   "source": [
    "from sklearn.model_selection import KFold\n",
    "from sklearn.model_selection import LeaveOneOut\n",
    "from sklearn.model_selection import LeaveOneGroupOut\n"
   ]
  },
  {
   "cell_type": "code",
   "execution_count": 61,
   "metadata": {},
   "outputs": [
    {
     "name": "stderr",
     "output_type": "stream",
     "text": [
      "/home/hexagramg/tmovenv/lib/python3.6/site-packages/ipykernel_launcher.py:8: DataConversionWarning: A column-vector y was passed when a 1d array was expected. Please change the shape of y to (n_samples, ), for example using ravel().\n",
      "  \n",
      "/home/hexagramg/tmovenv/lib/python3.6/site-packages/ipykernel_launcher.py:8: DataConversionWarning: A column-vector y was passed when a 1d array was expected. Please change the shape of y to (n_samples, ), for example using ravel().\n",
      "  \n"
     ]
    }
   ],
   "source": [
    "kf = KFold(n_splits=2)\n",
    "accpred = []\n",
    "acctrue = []\n",
    "for train_index, test_index in kf.split(xsh):\n",
    "    X_train, X_test = [xsh[i] for i in train_index], [xsh[i] for i in test_index]\n",
    "    y_train, y_test = [ysh[i] for i in train_index], [ysh[i] for i in test_index]\n",
    "    knn = KNeighborsClassifier(n_neighbors=7)\n",
    "    knn.fit(X_train, y_train)\n",
    "    y_pred = knn.predict(X_train)\n",
    "    accpred.append(y_pred)\n",
    "    acctrue.append(y_test)"
   ]
  },
  {
   "cell_type": "code",
   "execution_count": 62,
   "metadata": {},
   "outputs": [
    {
     "data": {
      "text/plain": [
       "[array([0, 0, 0, 2, 0, 1, 0, 2, 2, 2, 0, 0, 2, 0, 2, 1, 2, 1, 0, 0, 0, 0,\n",
       "        2, 2, 1, 2, 0, 1, 0, 0, 1, 2, 0, 0, 0, 2, 1, 1, 1, 2, 1, 2, 1, 2,\n",
       "        2, 0, 0, 2, 2, 0, 0, 2, 1, 1, 2, 2, 1, 1, 0, 0, 2, 1, 1, 2, 1, 2,\n",
       "        1, 0, 0, 2, 0, 2, 2, 0, 1], dtype=int8),\n",
       " array([2, 1, 1, 1, 2, 1, 1, 1, 2, 1, 0, 1, 1, 2, 2, 0, 1, 2, 1, 0, 0, 0,\n",
       "        1, 2, 0, 0, 0, 1, 0, 0, 0, 0, 1, 1, 1, 2, 2, 2, 0, 1, 0, 1, 1, 2,\n",
       "        1, 2, 1, 2, 0, 2, 1, 0, 0, 2, 1, 2, 2, 1, 2, 0, 1, 0, 1, 2, 2, 0,\n",
       "        0, 0, 2, 1, 2, 1, 2, 2, 1], dtype=int8)]"
      ]
     },
     "execution_count": 62,
     "metadata": {},
     "output_type": "execute_result"
    }
   ],
   "source": [
    "accpred"
   ]
  },
  {
   "cell_type": "code",
   "execution_count": 63,
   "metadata": {},
   "outputs": [
    {
     "data": {
      "text/plain": [
       "[[array([2], dtype=int8),\n",
       "  array([1], dtype=int8),\n",
       "  array([1], dtype=int8),\n",
       "  array([1], dtype=int8),\n",
       "  array([1], dtype=int8),\n",
       "  array([1], dtype=int8),\n",
       "  array([1], dtype=int8),\n",
       "  array([1], dtype=int8),\n",
       "  array([2], dtype=int8),\n",
       "  array([2], dtype=int8),\n",
       "  array([0], dtype=int8),\n",
       "  array([1], dtype=int8),\n",
       "  array([1], dtype=int8),\n",
       "  array([2], dtype=int8),\n",
       "  array([2], dtype=int8),\n",
       "  array([0], dtype=int8),\n",
       "  array([1], dtype=int8),\n",
       "  array([2], dtype=int8),\n",
       "  array([1], dtype=int8),\n",
       "  array([0], dtype=int8),\n",
       "  array([0], dtype=int8),\n",
       "  array([0], dtype=int8),\n",
       "  array([1], dtype=int8),\n",
       "  array([2], dtype=int8),\n",
       "  array([0], dtype=int8),\n",
       "  array([0], dtype=int8),\n",
       "  array([0], dtype=int8),\n",
       "  array([1], dtype=int8),\n",
       "  array([0], dtype=int8),\n",
       "  array([0], dtype=int8),\n",
       "  array([0], dtype=int8),\n",
       "  array([0], dtype=int8),\n",
       "  array([1], dtype=int8),\n",
       "  array([1], dtype=int8),\n",
       "  array([1], dtype=int8),\n",
       "  array([2], dtype=int8),\n",
       "  array([2], dtype=int8),\n",
       "  array([2], dtype=int8),\n",
       "  array([0], dtype=int8),\n",
       "  array([2], dtype=int8),\n",
       "  array([0], dtype=int8),\n",
       "  array([2], dtype=int8),\n",
       "  array([1], dtype=int8),\n",
       "  array([2], dtype=int8),\n",
       "  array([1], dtype=int8),\n",
       "  array([2], dtype=int8),\n",
       "  array([1], dtype=int8),\n",
       "  array([2], dtype=int8),\n",
       "  array([0], dtype=int8),\n",
       "  array([2], dtype=int8),\n",
       "  array([1], dtype=int8),\n",
       "  array([0], dtype=int8),\n",
       "  array([0], dtype=int8),\n",
       "  array([2], dtype=int8),\n",
       "  array([1], dtype=int8),\n",
       "  array([2], dtype=int8),\n",
       "  array([2], dtype=int8),\n",
       "  array([1], dtype=int8),\n",
       "  array([1], dtype=int8),\n",
       "  array([0], dtype=int8),\n",
       "  array([1], dtype=int8),\n",
       "  array([0], dtype=int8),\n",
       "  array([1], dtype=int8),\n",
       "  array([2], dtype=int8),\n",
       "  array([2], dtype=int8),\n",
       "  array([0], dtype=int8),\n",
       "  array([0], dtype=int8),\n",
       "  array([0], dtype=int8),\n",
       "  array([2], dtype=int8),\n",
       "  array([1], dtype=int8),\n",
       "  array([2], dtype=int8),\n",
       "  array([1], dtype=int8),\n",
       "  array([2], dtype=int8),\n",
       "  array([2], dtype=int8),\n",
       "  array([1], dtype=int8)],\n",
       " [array([0], dtype=int8),\n",
       "  array([0], dtype=int8),\n",
       "  array([0], dtype=int8),\n",
       "  array([2], dtype=int8),\n",
       "  array([0], dtype=int8),\n",
       "  array([1], dtype=int8),\n",
       "  array([0], dtype=int8),\n",
       "  array([2], dtype=int8),\n",
       "  array([2], dtype=int8),\n",
       "  array([2], dtype=int8),\n",
       "  array([0], dtype=int8),\n",
       "  array([0], dtype=int8),\n",
       "  array([2], dtype=int8),\n",
       "  array([0], dtype=int8),\n",
       "  array([2], dtype=int8),\n",
       "  array([1], dtype=int8),\n",
       "  array([2], dtype=int8),\n",
       "  array([1], dtype=int8),\n",
       "  array([0], dtype=int8),\n",
       "  array([0], dtype=int8),\n",
       "  array([0], dtype=int8),\n",
       "  array([0], dtype=int8),\n",
       "  array([2], dtype=int8),\n",
       "  array([2], dtype=int8),\n",
       "  array([1], dtype=int8),\n",
       "  array([2], dtype=int8),\n",
       "  array([0], dtype=int8),\n",
       "  array([1], dtype=int8),\n",
       "  array([0], dtype=int8),\n",
       "  array([0], dtype=int8),\n",
       "  array([1], dtype=int8),\n",
       "  array([2], dtype=int8),\n",
       "  array([0], dtype=int8),\n",
       "  array([0], dtype=int8),\n",
       "  array([0], dtype=int8),\n",
       "  array([2], dtype=int8),\n",
       "  array([1], dtype=int8),\n",
       "  array([1], dtype=int8),\n",
       "  array([1], dtype=int8),\n",
       "  array([1], dtype=int8),\n",
       "  array([1], dtype=int8),\n",
       "  array([2], dtype=int8),\n",
       "  array([1], dtype=int8),\n",
       "  array([1], dtype=int8),\n",
       "  array([2], dtype=int8),\n",
       "  array([0], dtype=int8),\n",
       "  array([0], dtype=int8),\n",
       "  array([2], dtype=int8),\n",
       "  array([2], dtype=int8),\n",
       "  array([0], dtype=int8),\n",
       "  array([0], dtype=int8),\n",
       "  array([2], dtype=int8),\n",
       "  array([1], dtype=int8),\n",
       "  array([1], dtype=int8),\n",
       "  array([2], dtype=int8),\n",
       "  array([2], dtype=int8),\n",
       "  array([1], dtype=int8),\n",
       "  array([1], dtype=int8),\n",
       "  array([0], dtype=int8),\n",
       "  array([0], dtype=int8),\n",
       "  array([2], dtype=int8),\n",
       "  array([1], dtype=int8),\n",
       "  array([1], dtype=int8),\n",
       "  array([2], dtype=int8),\n",
       "  array([1], dtype=int8),\n",
       "  array([2], dtype=int8),\n",
       "  array([1], dtype=int8),\n",
       "  array([0], dtype=int8),\n",
       "  array([0], dtype=int8),\n",
       "  array([2], dtype=int8),\n",
       "  array([0], dtype=int8),\n",
       "  array([2], dtype=int8),\n",
       "  array([2], dtype=int8),\n",
       "  array([0], dtype=int8),\n",
       "  array([1], dtype=int8)]]"
      ]
     },
     "execution_count": 63,
     "metadata": {},
     "output_type": "execute_result"
    }
   ],
   "source": [
    "print(accuracy_score(y_train, y_pred))\n",
    "print(balanced_accuracy_score(y_train, y_pred))\n",
    "print(f1_score(y_train, y_pred, average='macro'))\n",
    "print(f1_score(y_train, y_pred, average='micro'))  \n",
    "print(f1_score(y_train, y_pred, average='weighted'))"
   ]
  }
 ],
 "metadata": {
  "kernelspec": {
   "display_name": "Python 3",
   "language": "python",
   "name": "python3"
  },
  "language_info": {
   "codemirror_mode": {
    "name": "ipython",
    "version": 3
   },
   "file_extension": ".py",
   "mimetype": "text/x-python",
   "name": "python",
   "nbconvert_exporter": "python",
   "pygments_lexer": "ipython3",
   "version": "3.6.7"
  }
 },
 "nbformat": 4,
 "nbformat_minor": 2
}
